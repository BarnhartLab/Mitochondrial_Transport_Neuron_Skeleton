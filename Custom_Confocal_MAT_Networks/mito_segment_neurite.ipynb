{
 "cells": [
  {
   "cell_type": "markdown",
   "id": "c55f5232-9eee-4b6c-b9c6-38b120d4abe0",
   "metadata": {
    "tags": []
   },
   "source": [
    "# Semi-automatic morphological analysis of neurons (Step 2: preprocessing Ilastik predictions)\n",
    "- Goal: Measure neurite volume and arbor widths of a target cell in a confocal image stack. \n",
    "- Ilastik pixel classified can be used to seperate the neurite of interest from noise and off-target cells. \n",
    "- Thresholding/object segmentation does not seem to be working properly in the version of Ilastik I am using. Even when this worked in the past, exploring parameters in Ilastik is clunky and slow, so this should be done externally (here). \n",
    "\n",
    "Preprocessing Ilastik prob maps\n",
    "- Neurite probability map is thresholded and binarized\n",
    "- Connected components in the Binary map is labelled\n",
    "- Ideally: the neurite of interest will be the largest connected component, allowing us to filter out everything else\n"
   ]
  },
  {
   "cell_type": "code",
   "execution_count": 1,
   "id": "5a531c80-1c0c-4d40-bea1-433b3c2909fc",
   "metadata": {},
   "outputs": [],
   "source": [
    "%matplotlib ipympl\n",
    "%load_ext autoreload\n",
    "%autoreload\n",
    "\n",
    "import matplotlib.pyplot as plt\n",
    "import mpl_interactions.ipyplot as iplt\n",
    "import h5py\n",
    "import os.path\n",
    "from typing import Tuple, Dict, Union\n",
    "import numpy as np\n",
    "import pandas as pd\n",
    "from skimage import io\n",
    "import skimage.morphology\n",
    "from typing import List\n",
    "\n",
    "from fig_utils import rand_cmap\n",
    "plt.style.use('mystyle.mplstyle')\n",
    "#import PIL\n",
    "# import mpl_interactions.ipyplot as iplt"
   ]
  },
  {
   "cell_type": "markdown",
   "id": "20c6f7e4-80df-4a9d-b1f8-194444e5ecf6",
   "metadata": {
    "tags": []
   },
   "source": [
    "## Load data\n",
    "- Ilastik exports a pmap for each label you trained the classifier on. (even when you tell it to export it for only one label) \n",
    "- In this case, the first map is the neurite probabilities, the second is the background"
   ]
  },
  {
   "cell_type": "code",
   "execution_count": 3,
   "id": "8691093f-4b7a-48c7-b55b-f5c8de951449",
   "metadata": {},
   "outputs": [],
   "source": [
    "def read_h5_multi_channel(fp: str, channels: Union[List, str]=None) -> np.ndarray:\n",
    "        \n",
    "    f = h5py.File(fp, \"r\")\n",
    "    arr = []\n",
    "    \n",
    "    if channels is not None:\n",
    "        for ch in channels:\n",
    "            arr.append(np.array(f[ch], dtype=int))\n",
    "        print(f'Channels included: {channels}')\n",
    "    else:\n",
    "        arr = np.array([f[ch] for ch in f.keys()])\n",
    "        print(f'Channels not specified. All are included: {list(f.keys())}')\n",
    "    f.close()\n",
    "    return np.squeeze(np.array(arr)) # singleton dimension removed if len(channels) == 1\n"
   ]
  },
  {
   "cell_type": "code",
   "execution_count": 10,
   "id": "945667e9-d529-462e-aeba-dbe50a3291d9",
   "metadata": {},
   "outputs": [],
   "source": [
    "def read_h5_pmap(fp: str):\n",
    "    f = h5py.File(fp, \"r\")\n",
    "    \n",
    "    \n",
    "    data = np.array(f['pmap'])\n",
    "    return data\n",
    "    \n",
    "p = read_h5_pmap(os.path.expanduser('~/Barnhart/data/mito-seg/ilastik/dsets-combined/211118_mitoseg_neurites-combined.h5'))"
   ]
  },
  {
   "cell_type": "code",
   "execution_count": 11,
   "id": "1242bc44-72d5-4389-9aad-d77932f637b1",
   "metadata": {},
   "outputs": [
    {
     "data": {
      "text/plain": [
       "(116, 364, 364, 2)"
      ]
     },
     "execution_count": 11,
     "metadata": {},
     "output_type": "execute_result"
    }
   ],
   "source": [
    "p.shape"
   ]
  },
  {
   "cell_type": "code",
   "execution_count": 3,
   "id": "095d4316",
   "metadata": {
    "collapsed": false,
    "jupyter": {
     "outputs_hidden": false
    },
    "pycharm": {
     "name": "#%%\n"
    }
   },
   "outputs": [],
   "source": [
    "data_dir = os.path.expanduser('~/barnhart-lab/data/mito-seg/')\n",
    "#single_channel = ['tdTomato']\n",
    "dsets = ['']\n",
    "im_path = os.path.join(data_dir, f'image-data/{dset}.tif')\n",
    "#im_path = os.path.expanduser(data_dir + 'h5_files/3.control_axon-039_140620fly1.h5')\n",
    "\n",
    "if im_path[-3: ] == '.h5':\n",
    "    im = read_h5_multi_channel(im_path, single_channel)\n",
    "else:\n",
    "    im = io.imread(im_path)\n",
    "mip = np.max(im, axis=0)"
   ]
  },
  {
   "cell_type": "code",
   "execution_count": 9,
   "id": "22fcc2ee-9919-4abe-8e09-a7274caaccf1",
   "metadata": {},
   "outputs": [
    {
     "name": "stdout",
     "output_type": "stream",
     "text": [
      "14680064\n",
      "382062\n",
      "327040\n"
     ]
    }
   ],
   "source": [
    "pmap_path = os.path.join(data_dir, f\"ilastik-data/probability_maps/1.210923_prob.h5\")\n",
    "f = h5py.File(pmap_path, \"r\")\n",
    "p1 = np.array(f['exported_data'], dtype='float32')[:, :, :, 0]  # neurite probability map\n",
    "p2 = np.array(f['exported_data'], dtype='float32')[:, :, :, 1]  # background p map\n",
    "\n",
    "# p1 = np.array(f['pmap'], dtype='float32')[:, :, :, 0]  # neurite probability map\n",
    "# p2 = np.array(f['pmap'], dtype='float32')[:, :, :, 1]  # background p map\n",
    "f.close()\n",
    "\n",
    "print(len(p1.flatten()))\n",
    "print((p1.flatten() > 0.95).sum())\n",
    "print((p1.flatten() == 1.0).sum())\n",
    "assert(all([d == dd for d, dd in zip(p1.shape, im.shape)]))  # check image and pmap dims match\n",
    "\n",
    "nz, ny, nx = p1.shape"
   ]
  },
  {
   "cell_type": "markdown",
   "id": "7aede407-9656-4684-b275-8c755bf8e59b",
   "metadata": {
    "tags": []
   },
   "source": [
    "## Examine the probability map\n",
    "- The probability map exported from Ilastik is a matrix with the probability that each voxel belongs to the neurite of interest. \n",
    "- Ideally, you want to see a distribution with few intermediary values (voxels where your model felt uncertain). \n",
    "- The porportion of voxels with intermediary values (e.g. 0.1 < p <= 0.9) is a good metric to watch when you are wondering if the pixel classifier needs more training data (if it does, this should decrease).  \n",
    "- The relative proportion of values close to 1 vs 0 depend on how much neurite is in your volume  \n",
    "- The background probability map is just 1 - p(voxel = neurite)"
   ]
  },
  {
   "cell_type": "code",
   "execution_count": 10,
   "id": "1a4921e2-8b8e-42c7-9363-b1823dfa3546",
   "metadata": {},
   "outputs": [
    {
     "data": {
      "application/vnd.jupyter.widget-view+json": {
       "model_id": "c685adb1bf034d75842faa12f0afc1b5",
       "version_major": 2,
       "version_minor": 0
      },
      "text/plain": [
       "Canvas(toolbar=Toolbar(toolitems=[('Home', 'Reset original view', 'home', 'home'), ('Back', 'Back to previous …"
      ]
     },
     "metadata": {},
     "output_type": "display_data"
    },
    {
     "data": {
      "text/plain": [
       "Text(0.5, 0, 'P(voxel=neurite)')"
      ]
     },
     "execution_count": 10,
     "metadata": {},
     "output_type": "execute_result"
    }
   ],
   "source": [
    "fig, ax = plt.subplots(1, figsize=[3.8, 2.8])\n",
    "ax.set_title('Neurite probability distribution')\n",
    "ax.hist(p1.flatten(), log=True)\n",
    "ax.set_ylabel('Voxels')\n",
    "ax.set_xlabel('P(voxel=neurite)')"
   ]
  },
  {
   "cell_type": "code",
   "execution_count": 11,
   "id": "b8d68a00-71a7-4593-8ae1-6101665a5cf5",
   "metadata": {},
   "outputs": [],
   "source": [
    "# def uncertainty_ratio(p: np.array, uc_interval: float=0.90) -> float:\n",
    "    \n",
    "#     uc_range = [(1-uc_interval)/2.0] \n",
    "#     uncertain_vx = (p1.flatten() )\n",
    "# uncertainty = (p1.flatten() >= 0.9).sum() + "
   ]
  },
  {
   "cell_type": "code",
   "execution_count": 12,
   "id": "4b41908f-850a-46cf-9cdb-93e613e0f823",
   "metadata": {},
   "outputs": [
    {
     "name": "stdout",
     "output_type": "stream",
     "text": [
      "[1.]\n"
     ]
    }
   ],
   "source": [
    "# Show that the background pmap + neurite pmap = 1 (are complementary)\n",
    "complement = p1.flatten() + p2.flatten()\n",
    "print(np.unique(complement))"
   ]
  },
  {
   "cell_type": "code",
   "execution_count": 13,
   "id": "f983aef1-8275-4620-95f3-e9c384af4172",
   "metadata": {},
   "outputs": [
    {
     "data": {
      "application/vnd.jupyter.widget-view+json": {
       "model_id": "3435cc76b01347b6bab10dbd905ccaa5",
       "version_major": 2,
       "version_minor": 0
      },
      "text/plain": [
       "Canvas(toolbar=Toolbar(toolitems=[('Home', 'Reset original view', 'home', 'home'), ('Back', 'Back to previous …"
      ]
     },
     "metadata": {},
     "output_type": "display_data"
    },
    {
     "data": {
      "text/plain": [
       "<matplotlib.image.AxesImage at 0x1acd53310>"
      ]
     },
     "execution_count": 13,
     "metadata": {},
     "output_type": "execute_result"
    }
   ],
   "source": [
    "fig, ax = plt.subplots(1, 2, figsize=[3.8, 2.3], sharex=True, sharey=True)\n",
    "ax[0].set_title(f\"Data - z max proj.\")\n",
    "ax[0].imshow(mip, cmap='hot')\n",
    "\n",
    "ax[1].set_title(f\"Pmap - z max proj.\")\n",
    "ax[1].imshow(np.max(p1, axis=0), cmap='hot')"
   ]
  },
  {
   "cell_type": "markdown",
   "id": "92a30c9f-ecbc-4127-a62b-99960ad2cc45",
   "metadata": {},
   "source": [
    "### Preprocess probability map?"
   ]
  },
  {
   "cell_type": "code",
   "execution_count": 14,
   "id": "f1d443d5-032a-4874-ade9-1d950d9693fb",
   "metadata": {},
   "outputs": [],
   "source": [
    "footprint = skimage.morphology.cube(3)\n",
    "p1_morphed = skimage.morphology.closing(p1, footprint)\n"
   ]
  },
  {
   "cell_type": "code",
   "execution_count": 15,
   "id": "9cd657f9-ff1d-45ce-a5f4-1fd768d51344",
   "metadata": {},
   "outputs": [
    {
     "data": {
      "application/vnd.jupyter.widget-view+json": {
       "model_id": "3ad5438b42594f3ca761ab1e2025216d",
       "version_major": 2,
       "version_minor": 0
      },
      "text/plain": [
       "Canvas(toolbar=Toolbar(toolitems=[('Home', 'Reset original view', 'home', 'home'), ('Back', 'Back to previous …"
      ]
     },
     "metadata": {},
     "output_type": "display_data"
    },
    {
     "data": {
      "text/plain": [
       "<matplotlib.image.AxesImage at 0x1ace44160>"
      ]
     },
     "execution_count": 15,
     "metadata": {},
     "output_type": "execute_result"
    }
   ],
   "source": [
    "fig, ax = plt.subplots(1, 3, figsize=[4.2, 2.3], sharex=True, sharey=True)\n",
    "ax[0].set_title(f\"MIP - image\")\n",
    "ax[0].imshow(mip, cmap='hot')\n",
    "\n",
    "ax[1].set_title(f\"Pmap - before\")\n",
    "ax[1].imshow(np.max(p1, axis=0), cmap='hot')\n",
    "\n",
    "ax[2].set_title(f\"Pmap - after closing\")\n",
    "ax[2].imshow(np.max(p1_morphed, axis=0), cmap='hot')"
   ]
  },
  {
   "cell_type": "markdown",
   "id": "213fa0a8-3c9f-4fa0-9d47-d8b793d09e32",
   "metadata": {},
   "source": [
    "## Get binary mask\n",
    "- The most simple way to turn a probability map into a binary map is to apply a single threshold\n",
    "- TODO: two thresholds (aka hysterisis thresholding in Ilastik). The first 'strict' threshold, p>=t1, will define the core of your object. Remaining voxels will only be labelled if they pass the second 'lax' threshold, p>=t2, AND are adjacent to voxels that passed the first threshold. t1 > t2. Hysterisis thresholding is needed when your object and non-objects are close together. \n"
   ]
  },
  {
   "cell_type": "code",
   "execution_count": 16,
   "id": "1a2a2a1d-4f01-4b9d-a442-b18a6d74d4e6",
   "metadata": {},
   "outputs": [],
   "source": [
    "def binarize(im_stack: np.array, min_thresh:float) -> np.array:\n",
    "    binary_map = np.zeros(im_stack.shape, dtype=int)\n",
    "    binary_map[im_stack >= min_thresh] = 1\n",
    "    return binary_map \n",
    "\n",
    "z_slicer = lambda z, im_stack: im_stack[z]"
   ]
  },
  {
   "cell_type": "code",
   "execution_count": 17,
   "id": "d4b4e23e-951f-42a3-9088-fece2baf2eb7",
   "metadata": {
    "tags": []
   },
   "outputs": [
    {
     "data": {
      "application/vnd.jupyter.widget-view+json": {
       "model_id": "7f12a643165642aca483ca3f3d5a34bb",
       "version_major": 2,
       "version_minor": 0
      },
      "text/plain": [
       "Canvas(toolbar=Toolbar(toolitems=[('Home', 'Reset original view', 'home', 'home'), ('Back', 'Back to previous …"
      ]
     },
     "metadata": {},
     "output_type": "display_data"
    },
    {
     "data": {
      "application/vnd.jupyter.widget-view+json": {
       "model_id": "725dea509ef34b11963092313c30982b",
       "version_major": 2,
       "version_minor": 0
      },
      "text/plain": [
       "VBox(children=(HBox(children=(IntSlider(value=0, description='min_thresh', max=9, readout=False), Label(value=…"
      ]
     },
     "metadata": {},
     "output_type": "display_data"
    },
    {
     "data": {
      "application/vnd.jupyter.widget-view+json": {
       "model_id": "8ae8287619e94c2583006301c15a1ab2",
       "version_major": 2,
       "version_minor": 0
      },
      "text/plain": [
       "VBox(children=(HBox(children=(IntSlider(value=0, description='min_thresh', max=9, readout=False), Label(value=…"
      ]
     },
     "metadata": {},
     "output_type": "display_data"
    }
   ],
   "source": [
    "fig, ax = plt.subplots(2, 2, sharex=True, sharey=True, figsize=[3, 3])\n",
    "\n",
    "def z_thresh_bin0(min_thresh: float, z: int) -> np.array:\n",
    "    return z_slicer(z, binarize(p1, min_thresh))\n",
    "\n",
    "ax[0, 0].set_title(f\"Max intensity projection\")\n",
    "ax[0, 0].imshow(mip, cmap='hot')\n",
    "\n",
    "ax[0, 1].set_title(f\"Bmap-before closing\")\n",
    "z_range = np.arange(0, p1.shape[0], 1)\n",
    "thresh_range = np.arange(0, 1, 0.1)\n",
    "control = iplt.imshow(z_thresh_bin0, min_thresh=thresh_range, z=z_range, cmap='binary', ax=ax[0, 1])\n",
    "\n",
    "# Dilated\n",
    "footprint = skimage.morphology.ball(3)  # sphere with radius 3 pixels used as structuring element\n",
    "p1_morphed = skimage.morphology.closing(p1, footprint)\n",
    "\n",
    "def z_thresh_bin1(min_thresh: float, z: int) -> np.array:\n",
    "    return z_slicer(z, binarize(p1_morphed, min_thresh))\n",
    "\n",
    "ax[1, 0].set_title(f\"Pmap-after closing\")\n",
    "ax[1, 0].imshow(np.max(p1_morphed, axis=0), cmap='hot')\n",
    "\n",
    "ax[1, 1].set_title(f\"Bmap-after closing\")\n",
    "z_range = np.arange(0, p1.shape[0], 1)\n",
    "thresh_range = np.arange(0, 1, 0.1)\n",
    "control = iplt.imshow(z_thresh_bin1, min_thresh=thresh_range, z=z_range, cmap='hot', ax=ax[1, 1])"
   ]
  },
  {
   "cell_type": "code",
   "execution_count": 18,
   "id": "26d1ad48-55a1-4cb8-81ea-f3a34243bb87",
   "metadata": {},
   "outputs": [
    {
     "data": {
      "application/vnd.jupyter.widget-view+json": {
       "model_id": "e1eae7e24e9c403982afc6f9d6df19ac",
       "version_major": 2,
       "version_minor": 0
      },
      "text/plain": [
       "Canvas(toolbar=Toolbar(toolitems=[('Home', 'Reset original view', 'home', 'home'), ('Back', 'Back to previous …"
      ]
     },
     "metadata": {},
     "output_type": "display_data"
    },
    {
     "data": {
      "application/vnd.jupyter.widget-view+json": {
       "model_id": "9c9f11788c834bc7ac3042f0ec45c5b9",
       "version_major": 2,
       "version_minor": 0
      },
      "text/plain": [
       "VBox(children=(HBox(children=(IntSlider(value=0, description='min_thresh', max=19, readout=False), Label(value…"
      ]
     },
     "metadata": {},
     "output_type": "display_data"
    }
   ],
   "source": [
    "fig, ax = plt.subplots(1, 2, sharex=True, sharey=True)\n",
    "\n",
    "def p1_f(min_thresh: float, z: int) -> np.array:\n",
    "    return z_slicer(z, binarize(p1_morphed, min_thresh))\n",
    "\n",
    "ax[0].set_title(f\"Max intensity z proj (z={im.shape[0]})\")\n",
    "ax[0].imshow(mip, cmap='hot')\n",
    "\n",
    "ax[1].set_title(f\"Binary mask\")\n",
    "z_range = np.linspace(0, p1.shape[0], num=p1.shape[0], dtype=int)\n",
    "thresh_range = np.linspace(0.0, 1.0, num=20)\n",
    "control = iplt.imshow(p1_f, min_thresh=thresh_range, z=z_range, cmap='binary', ax=ax[1])"
   ]
  },
  {
   "cell_type": "code",
   "execution_count": 19,
   "id": "e73b12e3-dcf5-4ee4-ba61-d34ec6fd4b93",
   "metadata": {
    "tags": []
   },
   "outputs": [
    {
     "data": {
      "application/vnd.jupyter.widget-view+json": {
       "model_id": "5f07adb8ca924ad991f3310e86b0ded9",
       "version_major": 2,
       "version_minor": 0
      },
      "text/plain": [
       "Canvas(toolbar=Toolbar(toolitems=[('Home', 'Reset original view', 'home', 'home'), ('Back', 'Back to previous …"
      ]
     },
     "metadata": {},
     "output_type": "display_data"
    },
    {
     "data": {
      "text/plain": [
       "<matplotlib.image.AxesImage at 0x1ad0a1e80>"
      ]
     },
     "execution_count": 19,
     "metadata": {},
     "output_type": "execute_result"
    }
   ],
   "source": [
    "bin_im = binarize(p1_morphed, 0.9)\n",
    "\n",
    "fig, ax = plt.subplots(1, figsize=[2.2, 2.2])\n",
    "ax.set_title('Binary mask (p>=0.90)')\n",
    "ax.imshow(bin_im.max(axis=0), cmap='Greys', aspect='equal')\n",
    "\n",
    "#Fake test data\n",
    "# bin_im = np.array([[[1, 1, 0, 0, 0], \n",
    "#                     [1, 0, 0, 1, 1], \n",
    "#                     [0, 1, 0, 1, 1]],\n",
    "#                    [[1, 0, 0, 0, 0], \n",
    "#                     [1, 0, 0, 0, 0], \n",
    "#                     [0, 1, 0, 0, 0]], \n",
    "#                    [[1, 0, 0, 0, 0],\n",
    "#                     [0, 1, 0, 0, 0], \n",
    "#                     [0, 0, 0, 0, 0]]])\n",
    "\n",
    "# TODO: Try different treshold values, though this might need to be tuned for each dataset "
   ]
  },
  {
   "cell_type": "markdown",
   "id": "efdde9c3-feca-4b08-8af8-39ea87e917e0",
   "metadata": {},
   "source": [
    "## Morphological operations\n",
    "- Try dilation\n",
    "- Closing to get rid of the pepper"
   ]
  },
  {
   "cell_type": "code",
   "execution_count": 20,
   "id": "9b892d3e-e601-4c4e-8ec4-8e95c5ff8b23",
   "metadata": {},
   "outputs": [],
   "source": [
    "# bin_im = binarize(p1, 0.95)\n",
    "\n",
    "# def plot_comparison(original, result, z):\n",
    "#     fig, (ax0, ax1) = plt.subplots(1, 2, figsize=[3.5, 2.5], sharex=True, sharey=True)\n",
    "#     ax0.imshow(original[z], cmap=plt.cm.gray)\n",
    "#     ax0.set_title(f'original z={z}')\n",
    "#     ax0.axis('off')\n",
    "    \n",
    "#     ax1.imshow(result[z], cmap=plt.cm.gray)\n",
    "#     ax1.set_title(f'transformed z={z}')\n",
    "#     ax1.axis('off')\n",
    "    \n",
    "\n",
    "# footprint = skimage.morphology.ball(3) # shape and size of structuring element\n",
    "# dilated = skimage.morphology.binary_dilation(bin_im, footprint) #footprint)\n",
    "\n",
    "# plot_comparison(bin_im, dilated, z=4)\n",
    "\n",
    "# #bin_im = dilated\n",
    "\n",
    "# bin_im = binarize(p1, 0.95)\n",
    "# closed = skimage.morphology.binary_closing(bin_im, footprint)\n",
    "\n",
    "# plot_comparison(bin_im, closed, z=4)\n",
    "\n",
    "    "
   ]
  },
  {
   "cell_type": "markdown",
   "id": "3d8f1c11-b32d-4901-880c-bb502ae3b72b",
   "metadata": {
    "tags": []
   },
   "source": [
    "## Label connected components\n",
    "- [Hoshen-Kopelman algorithm](https://www.ocf.berkeley.edu/~fricke/projects/hoshenkopelman/hoshenkopelman.html) \n",
    "- HK is an algorithm that relies on a union-find data structure that recursively populates equivalent sets. "
   ]
  },
  {
   "cell_type": "code",
   "execution_count": 21,
   "id": "c46ffb93-2165-4546-ae23-a293a502c046",
   "metadata": {
    "jupyter": {
     "source_hidden": true
    },
    "tags": []
   },
   "outputs": [],
   "source": [
    "\n",
    "# # initialize: the root of each index is itself\n",
    "# r = {n: n for n in np.arange(0, nz*nx*ny, dtype=int)}\n",
    "# # blank matrix to store root labels\n",
    "# label_mat = np.zeros(bin_im.shape, dtype=int)\n",
    "# largest_label = 0 # this number goes up as more root nodes are defined\n",
    "\n",
    "# def uf_union(a: int, b: int):\n",
    "#     \"\"\"\n",
    "#     Set index a and b as belonging to the same equivalent set\n",
    "#     (ie they have the same root node)\n",
    "#     Updates global variable r\n",
    "#     \"\"\"\n",
    "#     global r\n",
    "    \n",
    "#     if a < b: # The larger index gets reassigned to the smaller's root\n",
    "#         r[uf_find(a)] = uf_find(b)\n",
    "#     else:\n",
    "#         r[uf_find(b)] = uf_find(a)\n",
    "    \n",
    "# def uf_find(a: int) -> int:\n",
    "#     \"\"\"\n",
    "#     Find the root node of a given index, a\n",
    "#     Updates global variable r\n",
    "#     \"\"\"\n",
    "#     global r\n",
    "    \n",
    "#     current = a\n",
    "#     while r[current] != current:\n",
    "#         current = r[current]\n",
    "#     else: # The root node is found when r[current]==current\n",
    "#         this_root = current\n",
    "#     # path compression \n",
    "#     # i.e. reassign intermediary nodes to the found root    \n",
    "#     current = a\n",
    "#     while r[current] != current:\n",
    "#         next_current = r[current] \n",
    "#         r[current] = this_root # the root index found above\n",
    "#         current = next_current # move on to the parent\n",
    "#     return this_root\n",
    "\n",
    "# def flat_ind(z: int, y: int, x: int) -> int:\n",
    "#     return (nx + ny) * z + nx * y + x\n",
    "\n",
    "# def is_occupied(z: int, y: int, x: int) -> int:\n",
    "#     # Returns the value of binary map at a coordinate \n",
    "#     if (z >= 0) and (y >= 0) and (x >= 0):\n",
    "#         return bin_im[z, y, x]\n",
    "#     else: # coordinate is outside the binary map\n",
    "#         return 0\n",
    "    \n",
    "# def neighborhood(z: int, y: int, x: int) -> Tuple:\n",
    "#     # Checks the left, up, front neighbors if they are occupied\n",
    "#     # Returns a tuple of 1s and 0s\n",
    "#     left_occupied = is_occupied(z, y, x - 1)\n",
    "#     up_occupied = is_occupied(z, y - 1, x)\n",
    "#     front_occupied = is_occupied(z - 1, y, x)\n",
    "#     return front_occupied, up_occupied, left_occupied\n",
    "\n",
    "# #####################################################################\n",
    "# unoccupied = 0\n",
    "# for this_z in range(0, nz):\n",
    "#     for this_y in range(0, ny):\n",
    "#         for this_x in range(0, nx):\n",
    "            \n",
    "#             if is_occupied(this_z, this_y, this_x) == 0:\n",
    "#                 unoccupied += 1\n",
    "#             else:  # bin map at xyz is 1\n",
    "#                 is_front, is_up, is_left = neighborhood(this_z, this_y, this_x)\n",
    "                \n",
    "#                 this_ind = flat_ind(this_z, this_y, this_x)\n",
    "#                 front_ind = flat_ind(this_z - 1, this_y, this_x)\n",
    "#                 up_ind = flat_ind(this_z, this_y - 1, this_x)\n",
    "#                 left_ind = flat_ind(this_z, this_y, this_x - 1)\n",
    "                \n",
    "#                 # 0 occupied neighbors #####\n",
    "#                 if is_front == 0 and is_up == 0 and is_left == 0: \n",
    "#                     #print(f\"{this_x}, {this_y}, {this_z}\")\n",
    "#                     # Make a new label containing this voxel\n",
    "#                     largest_label += 1  # label 0 reserved for background\n",
    "#                     r[this_ind] = largest_label\n",
    "#                     label_mat[this_z, this_y, this_x] = largest_label\n",
    "#                     # val in dict doesn't change cause labels[n] == n\n",
    "#                 # 1 occupied neighbor ###################\n",
    "#                 elif is_front > 0 and is_up == 0 and is_left == 0: # front\n",
    "#                     uf_union(this_ind, front_ind)\n",
    "#                     label_mat[this_z, this_y, this_x] = uf_find(front_ind)\n",
    "#                 elif is_up > 0 and is_front == 0 and is_left == 0: # up\n",
    "#                     uf_union(this_ind, up_ind)\n",
    "#                     label_mat[this_z, this_y, this_x] = uf_find(up_ind)\n",
    "#                 elif is_left > 0 and is_front == 0 and is_up == 0: # left\n",
    "#                     uf_union(this_ind, left_ind)\n",
    "#                     label_mat[this_z, this_y, this_x] = uf_find(left_ind)\n",
    "#                 # 2 occupied neighbors #########################\n",
    "#                 elif is_front > 0 and is_up > 0 and is_left == 0: # front & up\n",
    "#                     uf_union(front_ind, up_ind)\n",
    "#                     uf_union(this_ind, front_ind)\n",
    "#                     label_mat[this_z, this_y, this_x] = uf_find(front_ind)\n",
    "#                 elif is_front > 0 and is_left > 0 and is_up == 0: # front & left\n",
    "#                     uf_union(front_ind, left_ind)\n",
    "#                     uf_union(this_ind, front_ind)\n",
    "#                     label_mat[this_z, this_y, this_x] = uf_find(front_ind)\n",
    "#                 elif is_up > 0 and is_left > 0 and is_front == 0: # up & left\n",
    "#                     uf_union(up_ind, left_ind)\n",
    "#                     uf_union(this_ind, up_ind)\n",
    "#                     label_mat[this_z, this_y, this_x] = uf_find(up_ind)\n",
    "#                 # 3 occupied neighbors ###############################\n",
    "#                 else:\n",
    "#                     # U(front, up) = U(front, left)?\n",
    "#                     uf_union(front_ind, up_ind)\n",
    "#                     uf_union(front_ind, left_ind)\n",
    "#                     #assert(p == q)\n",
    "#                     label_mat[this_z, this_y, this_x] = uf_find(front_ind)\n"
   ]
  },
  {
   "cell_type": "code",
   "execution_count": 22,
   "id": "666320bf-ffc2-411b-b729-9054775a80ef",
   "metadata": {
    "tags": []
   },
   "outputs": [],
   "source": [
    "# #bin_im = binarize(p1, 0.9)\n",
    "\n",
    "# bin_im = np.array([[[1, 1, 0, 0, 0], \n",
    "#                     [1, 0, 0, 1, 1], \n",
    "#                     [0, 1, 0, 1, 1]],\n",
    "#                    [[1, 0, 0, 0, 0], \n",
    "#                     [1, 0, 0, 0, 0], \n",
    "#                     [0, 1, 0, 0, 0]], \n",
    "#                    [[1, 0, 0, 0, 0],\n",
    "#                     [0, 1, 0, 0, 0], \n",
    "#                     [0, 0, 0, 0, 0]]])\n",
    "# fig, ax = plt.subplots()\n",
    "# ax.imshow(bin_im[2])"
   ]
  },
  {
   "cell_type": "code",
   "execution_count": 23,
   "id": "93542f1f-4ec4-481e-ab52-e29f569a579a",
   "metadata": {},
   "outputs": [
    {
     "data": {
      "application/vnd.jupyter.widget-view+json": {
       "model_id": "64bdbabb4d6e4ddf9609ab7eadc08774",
       "version_major": 2,
       "version_minor": 0
      },
      "text/plain": [
       "Canvas(toolbar=Toolbar(toolitems=[('Home', 'Reset original view', 'home', 'home'), ('Back', 'Back to previous …"
      ]
     },
     "metadata": {},
     "output_type": "display_data"
    },
    {
     "data": {
      "application/vnd.jupyter.widget-view+json": {
       "model_id": "56c5841bd4fa4cecba1a413436072a99",
       "version_major": 2,
       "version_minor": 0
      },
      "text/plain": [
       "VBox(children=(HBox(children=(IntSlider(value=0, description='z', max=13, readout=False), Label(value='0.00'))…"
      ]
     },
     "metadata": {},
     "output_type": "display_data"
    }
   ],
   "source": [
    "# fig, ax = plt.subplots(1, 3, figsize=[3.5, 1.5])\n",
    "# ax[0].imshow(bin_im[0], cmap='gray')\n",
    "# ax[1].imshow(bin_im[1], cmap='gray')\n",
    "# ax[2].imshow(bin_im[2], cmap='gray')\n",
    "thresh = 0.90\n",
    "fig, ax = plt.subplots(1, figsize=[2.5, 2.5])\n",
    "\n",
    "label_mat, n_labels = skimage.morphology.label(binarize(p1_morphed, min_thresh=thresh), background=0, return_num=True)\n",
    "\n",
    "def label_f(z: int) -> np.array:\n",
    "    return z_slicer(z, label_mat)\n",
    "\n",
    "ax.set_title(f\"Connected components\")\n",
    "\n",
    "z_range = np.arange(0, bin_im.shape[0], dtype=int)\n",
    "\n",
    "control = iplt.imshow(label_f, z=z_range, cmap=rand_cmap(len(np.unique(label_mat))), autoscale_cmap=False, ax=ax)\n"
   ]
  },
  {
   "cell_type": "markdown",
   "id": "dab49f00-3ab0-4914-8002-533a888a2d61",
   "metadata": {},
   "source": [
    "### Remove small components"
   ]
  },
  {
   "cell_type": "code",
   "execution_count": 24,
   "id": "06529cb7-c933-4e1d-8be7-43b0e899d383",
   "metadata": {
    "tags": []
   },
   "outputs": [
    {
     "name": "stdout",
     "output_type": "stream",
     "text": [
      "Proportion background: 0.9667869976588658\n",
      "Proportion largest component: 0.03283895765032087\n"
     ]
    },
    {
     "data": {
      "text/plain": [
       "array([[0, 0, 0, ..., 0, 0, 0],\n",
       "       [0, 0, 0, ..., 0, 0, 0],\n",
       "       [0, 0, 0, ..., 0, 0, 0],\n",
       "       ...,\n",
       "       [0, 0, 0, ..., 0, 0, 0],\n",
       "       [0, 0, 0, ..., 0, 0, 0],\n",
       "       [0, 0, 0, ..., 0, 0, 0]], dtype=uint8)"
      ]
     },
     "metadata": {},
     "output_type": "display_data"
    },
    {
     "data": {
      "application/vnd.jupyter.widget-view+json": {
       "model_id": "740bb45115cc42b98078c943ecce0aa7",
       "version_major": 2,
       "version_minor": 0
      },
      "text/plain": [
       "Canvas(toolbar=Toolbar(toolitems=[('Home', 'Reset original view', 'home', 'home'), ('Back', 'Back to previous …"
      ]
     },
     "metadata": {},
     "output_type": "display_data"
    },
    {
     "data": {
      "application/vnd.jupyter.widget-view+json": {
       "model_id": "11577b7a015d48e19198a440d178cb35",
       "version_major": 2,
       "version_minor": 0
      },
      "text/plain": [
       "VBox(children=(HBox(children=(IntSlider(value=0, description='z', max=13, readout=False), Label(value='0.00'))…"
      ]
     },
     "metadata": {},
     "output_type": "display_data"
    }
   ],
   "source": [
    "labels, n_px = np.unique(label_mat, return_counts=True)\n",
    "\n",
    "labels_npx = pd.Series(n_px, index=labels).sort_values(ascending=False)\n",
    "ordered_labels = labels_npx.index\n",
    "\n",
    "print(f\"Proportion background: {labels_npx.iloc[0]/(nx*ny*nz)}\")\n",
    "print(f\"Proportion largest component: {labels_npx.iloc[1]/(nx*ny*nz)}\")\n",
    "\n",
    "bg_label =  ordered_labels[0]\n",
    "neurite_label = ordered_labels[1]\n",
    "\n",
    "neurite_mat = label_mat == neurite_label\n",
    "neurite_mat = neurite_mat.astype('uint8')\n",
    "display(neurite_mat[0])\n",
    "\n",
    "fig, ax = plt.subplots(1)\n",
    "\n",
    "def z_neurite_mat(z: int) -> np.array:\n",
    "    return z_slicer(z, neurite_mat)\n",
    "\n",
    "ax.set_title(f\"Neurite label\")\n",
    "\n",
    "z_range = np.arange(0, neurite_mat.shape[0], dtype=int)\n",
    "\n",
    "control = iplt.imshow(z_neurite_mat, z=z_range, cmap='binary', autoscale_cmap=False, ax=ax)\n",
    "    "
   ]
  },
  {
   "cell_type": "markdown",
   "id": "27778820-e33e-4ea9-82cb-b2f24dc160a2",
   "metadata": {},
   "source": [
    "## Skeletonize"
   ]
  },
  {
   "cell_type": "code",
   "execution_count": 25,
   "id": "0ed4ead4-5eab-4a54-a955-bd43f36c7d59",
   "metadata": {
    "tags": []
   },
   "outputs": [
    {
     "name": "stdout",
     "output_type": "stream",
     "text": [
      "uint8\n",
      "uint8\n"
     ]
    },
    {
     "data": {
      "application/vnd.jupyter.widget-view+json": {
       "model_id": "00ac23e7200c4c3d9ef6d4ad1e9b73f0",
       "version_major": 2,
       "version_minor": 0
      },
      "text/plain": [
       "Canvas(toolbar=Toolbar(toolitems=[('Home', 'Reset original view', 'home', 'home'), ('Back', 'Back to previous …"
      ]
     },
     "metadata": {},
     "output_type": "display_data"
    },
    {
     "data": {
      "text/plain": [
       "<matplotlib.image.AxesImage at 0x1ad1dfdf0>"
      ]
     },
     "execution_count": 25,
     "metadata": {},
     "output_type": "execute_result"
    }
   ],
   "source": [
    "skel_mat = skimage.morphology.skeletonize(neurite_mat)\n",
    "\n",
    "print(skel_mat.dtype)\n",
    "print(neurite_mat.dtype)\n",
    "\n",
    "fig, ax = plt.subplots(1, 3, sharex=True, sharey=True, figsize=[8.5, 3.5])\n",
    "\n",
    "def z_skel_mat(z: int) -> np.array:\n",
    "    return z_slicer(z, skel_mat)\n",
    "\n",
    "ax[0].set_title(f\"Image (z-proj)\")\n",
    "ax[1].set_title(f\"Binary mask (z-proj)\")\n",
    "ax[2].set_title(\"Skeleton (z-proj)\")\n",
    "\n",
    "z_range = np.arange(0, neurite_mat.shape[0], dtype=int)\n",
    "ax[0].imshow(mip, cmap='hot')\n",
    "ax[1].imshow(neurite_mat.max(axis=0), cmap='binary')\n",
    "ax[2].imshow(skel_mat.sum(axis=0), cmap='binary')\n",
    "#control = iplt.imshow(z_skel_mat, z=z_range, cmap='binary', autoscale_cmap=False, ax=ax[1])"
   ]
  },
  {
   "cell_type": "code",
   "execution_count": 26,
   "id": "bef54318-1bf6-4d08-b182-c4240edfc090",
   "metadata": {},
   "outputs": [],
   "source": [
    "output_file = os.path.join(data_dir, f'{dset}.h5')\n",
    "\n",
    "\n",
    "f = h5py.File(output_file, 'w')\n",
    "im_dset = f.create_dataset('im', data=im)\n",
    "p_dset = f.create_dataset('pmap', data=p1)\n",
    "n_dset = f.create_dataset('neurite', data=neurite_mat)\n",
    "s_dset = f.create_dataset('skel', data=skel_mat)\n",
    "f.close()\n"
   ]
  },
  {
   "cell_type": "code",
   "execution_count": 25,
   "id": "a21a61d4-7ca9-4a29-90fb-0d646eb6cf60",
   "metadata": {},
   "outputs": [
    {
     "data": {
      "text/plain": [
       "numpy.uint8"
      ]
     },
     "execution_count": 25,
     "metadata": {},
     "output_type": "execute_result"
    }
   ],
   "source": [
    "type(im[0, 0, 0])"
   ]
  },
  {
   "cell_type": "code",
   "execution_count": 42,
   "id": "2d101ece-fcb7-43d7-b8c3-66d813f9f551",
   "metadata": {
    "tags": []
   },
   "outputs": [],
   "source": [
    "# footprint = skimage.morphology.cube(2)\n",
    "# eroded = skimage.morphology.erosion(neurite_mat)\n",
    "# skel_mat = skimage.morphology.skeletonize(eroded)\n",
    "\n",
    "# fig, ax = plt.subplots(1, 2, sharex=True, sharey=True)\n",
    "\n",
    "# def z_skel_mat(z: int) -> np.array:\n",
    "#     return z_slicer(z, skel_mat)\n",
    "\n",
    "# #ax.set_title(f\"Neurite label\")\n",
    "\n",
    "# z_range = np.arange(0, neurite_mat.shape[0], dtype=int)\n",
    "# ax[0].imshow(mip, cmap='hot')\n",
    "# ax[1].imshow(skel_mat.sum(axis=0), cmap='binary')\n",
    "# #control = iplt.imshow(z_skel_mat, z=z_range, cmap='binary', autoscale_cmap=False, ax=ax[1])"
   ]
  },
  {
   "cell_type": "code",
   "execution_count": 43,
   "id": "234611fd-3143-49da-9b56-bd23fcab9a5d",
   "metadata": {},
   "outputs": [
    {
     "data": {
      "application/vnd.jupyter.widget-view+json": {
       "model_id": "2f745a5d5d6c4b698c8a88ebfa713b1e",
       "version_major": 2,
       "version_minor": 0
      },
      "text/plain": [
       "Canvas(toolbar=Toolbar(toolitems=[('Home', 'Reset original view', 'home', 'home'), ('Back', 'Back to previous …"
      ]
     },
     "metadata": {},
     "output_type": "display_data"
    },
    {
     "data": {
      "text/plain": [
       "<matplotlib.image.AxesImage at 0x7f97931b6a60>"
      ]
     },
     "execution_count": 43,
     "metadata": {},
     "output_type": "execute_result"
    }
   ],
   "source": [
    "fig, ax = plt.subplots(1, sharex=True, sharey=True)\n",
    "\n",
    "\n",
    "ax.imshow(mip, cmap='Greys_r', alpha=0.6)\n",
    "ax.imshow(skel_mat.sum(axis=0), cmap='hot', alpha=0.6)\n"
   ]
  },
  {
   "cell_type": "markdown",
   "id": "20674c99-8409-48c9-aee5-b08a65841bba",
   "metadata": {},
   "source": [
    "Next: erosion to disconnect adjacent arbors before skeletonization "
   ]
  },
  {
   "cell_type": "code",
   "execution_count": 44,
   "id": "e0882630-1746-4f2b-8492-26ea5f7de8b8",
   "metadata": {
    "tags": []
   },
   "outputs": [
    {
     "data": {
      "application/vnd.jupyter.widget-view+json": {
       "model_id": "d83e5f1890c147f9b582d87ebfd471c8",
       "version_major": 2,
       "version_minor": 0
      },
      "text/plain": [
       "Canvas(toolbar=Toolbar(toolitems=[('Home', 'Reset original view', 'home', 'home'), ('Back', 'Back to previous …"
      ]
     },
     "metadata": {},
     "output_type": "display_data"
    },
    {
     "ename": "NameError",
     "evalue": "name 'plot_comparison' is not defined",
     "output_type": "error",
     "traceback": [
      "\u001b[0;31m---------------------------------------------------------------------------\u001b[0m",
      "\u001b[0;31mNameError\u001b[0m                                 Traceback (most recent call last)",
      "\u001b[0;32m/var/folders/wc/n1h77mvd1415xz6hlxdkvmlw0000gp/T/ipykernel_22029/548409237.py\u001b[0m in \u001b[0;36m<module>\u001b[0;34m\u001b[0m\n\u001b[1;32m      9\u001b[0m \u001b[0mdilated\u001b[0m \u001b[0;34m=\u001b[0m \u001b[0mskimage\u001b[0m\u001b[0;34m.\u001b[0m\u001b[0mmorphology\u001b[0m\u001b[0;34m.\u001b[0m\u001b[0mbinary_dilation\u001b[0m\u001b[0;34m(\u001b[0m\u001b[0mbin_im\u001b[0m\u001b[0;34m,\u001b[0m \u001b[0mfootprint\u001b[0m\u001b[0;34m)\u001b[0m \u001b[0;31m#footprint)\u001b[0m\u001b[0;34m\u001b[0m\u001b[0;34m\u001b[0m\u001b[0m\n\u001b[1;32m     10\u001b[0m \u001b[0;34m\u001b[0m\u001b[0m\n\u001b[0;32m---> 11\u001b[0;31m \u001b[0mplot_comparison\u001b[0m\u001b[0;34m(\u001b[0m\u001b[0mbin_im\u001b[0m\u001b[0;34m,\u001b[0m \u001b[0mdilated\u001b[0m\u001b[0;34m,\u001b[0m \u001b[0mz\u001b[0m\u001b[0;34m=\u001b[0m\u001b[0;36m4\u001b[0m\u001b[0;34m)\u001b[0m\u001b[0;34m\u001b[0m\u001b[0;34m\u001b[0m\u001b[0m\n\u001b[0m\u001b[1;32m     12\u001b[0m \u001b[0mbin_im\u001b[0m \u001b[0;34m=\u001b[0m \u001b[0mdilated\u001b[0m\u001b[0;34m\u001b[0m\u001b[0;34m\u001b[0m\u001b[0m\n\u001b[1;32m     13\u001b[0m \u001b[0;34m\u001b[0m\u001b[0m\n",
      "\u001b[0;31mNameError\u001b[0m: name 'plot_comparison' is not defined"
     ]
    }
   ],
   "source": [
    "# fig, ax = plt.subplots(1, 3, figsize=[3.5, 1.5])\n",
    "# ax[0].imshow(bin_im[0], cmap='gray')\n",
    "# ax[1].imshow(bin_im[1], cmap='gray')\n",
    "# ax[2].imshow(bin_im[2], cmap='gray')\n",
    "\n",
    "fig, ax = plt.subplots(1, figsize=[2.5, 2.5])\n",
    "\n",
    "footprint = skimage.morphology.ball(3) # shape and size of structuring element\n",
    "dilated = skimage.morphology.binary_dilation(bin_im, footprint) #footprint)\n",
    "\n",
    "plot_comparison(bin_im, dilated, z=4)\n",
    "bin_im = dilated\n",
    "\n",
    "label_mat, n_labels = skimage.morphology.label(bin_im, background=0, return_num=True)\n",
    "\n",
    "def label_f(z: int) -> np.array:\n",
    "    return z_slicer(z, label_mat)\n",
    "\n",
    "ax.set_title(f\"Connected components\")\n",
    "\n",
    "z_range = np.arange(0, bin_im.shape[0], dtype=int)\n",
    "\n",
    "control = iplt.imshow(label_f, z=z_range, cmap=rand_cmap(len(np.unique(label_mat))), autoscale_cmap=False, ax=ax)\n"
   ]
  },
  {
   "cell_type": "code",
   "execution_count": null,
   "id": "20101b53-eb8f-457f-9ac2-3121e4529e33",
   "metadata": {},
   "outputs": [],
   "source": [
    "# Properties of connected components\n",
    "fig, ax = plt.subplots(1)\n",
    "\n",
    "pd.Series(label_mat.flatten()).nunique()"
   ]
  },
  {
   "cell_type": "code",
   "execution_count": null,
   "id": "7e5caac4-2e26-4f61-a8e9-e111755de93a",
   "metadata": {},
   "outputs": [],
   "source": [
    "fig, ax = plt.subplots(1, 2, figsize=[16, 7], sharex=True)\n",
    "\n",
    "ax[0].hist((im/255.0).flatten(), bins=300)\n",
    "ax[1].hist(label1.flatten(), bins=300)\n",
    "\n",
    "fig.show()"
   ]
  },
  {
   "cell_type": "code",
   "execution_count": null,
   "id": "3dcda473-5b11-4dbc-b591-d4d00ecc6a94",
   "metadata": {
    "collapsed": false,
    "jupyter": {
     "outputs_hidden": false
    },
    "pycharm": {
     "name": "#%%\n"
    }
   },
   "outputs": [],
   "source": [
    "im_path = os.path.expanduser('~/barnhart-lab/confocal-HS/210921-nicole-images/HSN_channel4.tif')\n",
    "\n",
    "im = io.imread(im_path)\n",
    "mip = np.max(im, axis=0)"
   ]
  },
  {
   "cell_type": "code",
   "execution_count": null,
   "id": "fe5a27c3-b899-411d-afd4-e54d7194089c",
   "metadata": {},
   "outputs": [],
   "source": [
    "pmap_path = os.path.expanduser(\"~/barnhart-lab/confocal-HS/210923_HSN_prob.h5\")\n",
    "f = h5py.File(pmap_path, \"r\")\n",
    "label1 = np.array(f['exported_data'], dtype='float32')[:, :, :, 0]\n",
    "label2 = np.array(f['exported_data'], dtype='float32')[:, :, :, 1]\n",
    "\n",
    "fig, ax = plt.subplots(1, 2, figsize=[16, 7])\n",
    "ax[0].set_title(f\"Maximum intensity projection (z={im.shape[0]})\")\n",
    "ax[0].imshow(mip, cmap='hot')\n",
    "\n",
    "ax[1].set_title(f\"2D probability map (z={im.shape[0]})\")\n",
    "ax[1].imshow(np.max(label1, axis=0), cmap='hot')"
   ]
  },
  {
   "cell_type": "code",
   "execution_count": null,
   "id": "9f76d83a-5014-4d29-92e8-d9b749f98ca3",
   "metadata": {},
   "outputs": [],
   "source": [
    "fig, ax = plt.subplots()\n",
    "\n",
    "im_slicer = lambda z: im[z]\n",
    "\n",
    "\n",
    "z_range = np.arange(0, im.shape[0])  # z slider\n",
    "z_slider_control = iplt.imshow(im_slicer, z=z_range, cmap='gray', ax=ax)\n",
    "\n"
   ]
  },
  {
   "cell_type": "code",
   "execution_count": null,
   "id": "907b8347-b33b-4b8a-9dab-b7758b801ba6",
   "metadata": {},
   "outputs": [],
   "source": [
    "fig, ax = plt.subplots()\n",
    "\n",
    "l1_slicer = lambda z: label1[z]\n",
    "\n",
    "\n",
    "z_range = np.arange(0, im.shape[0])  # z slider\n",
    "z_slider_control = iplt.imshow(l1_slicer, z=z_range, cmap='hot', ax=ax)\n",
    "\n"
   ]
  },
  {
   "cell_type": "code",
   "execution_count": null,
   "id": "0eda5e0f-4780-4d06-b352-2402981154ab",
   "metadata": {},
   "outputs": [],
   "source": [
    "fig, ax = plt.subplots()\n",
    "\n",
    "l2_slicer = lambda z: label2[z]\n",
    "\n",
    "\n",
    "z_range = np.arange(0, im.shape[0])  # z slider\n",
    "z_slider_control = iplt.imshow(l2_slicer, z=z_range, cmap='hot', ax=ax)\n",
    "\n"
   ]
  },
  {
   "cell_type": "code",
   "execution_count": null,
   "id": "e35f1ade-4932-4bb8-bea4-85fbb9efcd21",
   "metadata": {},
   "outputs": [],
   "source": [
    "fig, ax = plt.subplots()\n",
    "\n",
    "im_slicer = lambda z: im[z]\n",
    "\n",
    "\n",
    "z_range = np.arange(0, im.shape[0])  # z slider\n",
    "z_slider_control = iplt.imshow(z_slicer, z=z_range, cmap='gray', ax=ax)\n",
    "\n"
   ]
  },
  {
   "cell_type": "code",
   "execution_count": null,
   "id": "df20bb1a-e259-4747-bd06-942302527e5f",
   "metadata": {},
   "outputs": [],
   "source": [
    "label1.T.shape"
   ]
  },
  {
   "cell_type": "code",
   "execution_count": null,
   "id": "32b0245f-467c-49dd-b766-dfd83c932919",
   "metadata": {
    "collapsed": false,
    "jupyter": {
     "outputs_hidden": false
    },
    "pycharm": {
     "name": "#%%\n"
    }
   },
   "outputs": [],
   "source": [
    "fig, ax = plt.subplots(1, 3, figsize=[16, 7], sharex=True, sharey=True)\n",
    "\n",
    "def z_slicer(z, stack):\n",
    "    # return a function that returns z-slices of a stack\n",
    "    return lambda this_z : stack[this_z] \n",
    "\n",
    "im_slicer = lambda z: im[z] \n",
    "l1_slicer = lambda z: label1[z] \n",
    "l2_slicer = lambda z: label2[z] \n",
    "\n",
    "z_range = np.arange(0, im.shape[0])  # z slider\n",
    "z_slider_control = iplt.imshow(im_slicer, z=z_range, cmap='gray', ax=ax[0])\n",
    "z_slider_control = iplt.imshow(l1_slicer, z=z_range, cmap='gray', ax=ax[1])\n",
    "z_slider_control = iplt.imshow(l2_slicer, z=z_range, cmap='gray', ax=ax[2])"
   ]
  },
  {
   "cell_type": "code",
   "execution_count": null,
   "id": "3ee0f9f8",
   "metadata": {
    "collapsed": false,
    "jupyter": {
     "outputs_hidden": false
    },
    "pycharm": {
     "name": "#%%\n"
    }
   },
   "outputs": [],
   "source": [
    "fig, ax = plt.subplots(1, 3, figsize=[12, 8])\n",
    "\n",
    "def z_slicer(z, stack):\n",
    "    # return a function that returns z-slices of a stack\n",
    "    return lambda this_z : stack[this_z] \n",
    "\n",
    "#im_slicer = lambda z: im[14, :, :, z] \n",
    "l1_slicer = lambda z: label1[14, :, :, z] \n",
    "l2_slicer = lambda z: label2[14, :, :, z] \n",
    "\n",
    "z_range = np.arange(0, im.shape[0])  # z slider\n",
    "#z_slider_control = iplt.imshow(im_slicer, z=z_range, cmap='gray', ax=ax[0])\n",
    "z_slider_control = iplt.imshow(l1_slicer, z=z_range, cmap='gray', ax=ax[1])\n",
    "z_slider_control = iplt.imshow(l2_slicer, z=z_range, cmap='gray', ax=ax[2])"
   ]
  },
  {
   "cell_type": "code",
   "execution_count": null,
   "id": "d8858209-9728-4abc-bb5b-0c8754df192e",
   "metadata": {},
   "outputs": [],
   "source": [
    "iplt.imshow(im[10], cmap='gray')"
   ]
  },
  {
   "cell_type": "code",
   "execution_count": null,
   "id": "a56c549f-b99a-455d-b4f1-6ad24f6acdbe",
   "metadata": {},
   "outputs": [],
   "source": []
  }
 ],
 "metadata": {
  "kernelspec": {
   "display_name": "MCFO_analysis",
   "language": "python",
   "name": "mcfo_analysis"
  },
  "language_info": {
   "codemirror_mode": {
    "name": "ipython",
    "version": 3
   },
   "file_extension": ".py",
   "mimetype": "text/x-python",
   "name": "python",
   "nbconvert_exporter": "python",
   "pygments_lexer": "ipython3",
   "version": "3.9.13"
  },
  "toc-autonumbering": true
 },
 "nbformat": 4,
 "nbformat_minor": 5
}
